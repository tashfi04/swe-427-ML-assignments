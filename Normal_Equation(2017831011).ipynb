{
  "nbformat": 4,
  "nbformat_minor": 0,
  "metadata": {
    "colab": {
      "provenance": [],
      "collapsed_sections": [],
      "authorship_tag": "ABX9TyMCSBrIG2+n/5ySDA1ih/Jv",
      "include_colab_link": true
    },
    "kernelspec": {
      "name": "python3",
      "display_name": "Python 3"
    },
    "language_info": {
      "name": "python"
    }
  },
  "cells": [
    {
      "cell_type": "markdown",
      "metadata": {
        "id": "view-in-github",
        "colab_type": "text"
      },
      "source": [
        "<a href=\"https://colab.research.google.com/github/tashfi04/swe-427-ML-assignments/blob/main/Normal_Equation(2017831011).ipynb\" target=\"_parent\"><img src=\"https://colab.research.google.com/assets/colab-badge.svg\" alt=\"Open In Colab\"/></a>"
      ]
    },
    {
      "cell_type": "code",
      "execution_count": null,
      "metadata": {
        "id": "ztYBBAQQ83O8"
      },
      "outputs": [],
      "source": [
        "import pandas as pd\n",
        "import matplotlib.pyplot as plt\n",
        "import csv\n",
        "import numpy as np\n",
        "import io"
      ]
    },
    {
      "cell_type": "code",
      "source": [
        "!gdown 17JR0o1VgX-c5uNDThwpOUOAbd99_kNFY"
      ],
      "metadata": {
        "colab": {
          "base_uri": "https://localhost:8080/"
        },
        "id": "YXawhQbC9Hl_",
        "outputId": "18354d33-5178-43e1-f454-6d7571e422ca"
      },
      "execution_count": null,
      "outputs": [
        {
          "output_type": "stream",
          "name": "stdout",
          "text": [
            "Downloading...\n",
            "From: https://drive.google.com/uc?id=17JR0o1VgX-c5uNDThwpOUOAbd99_kNFY\n",
            "To: /content/4K_House_Rent_Dataset.csv\n",
            "\r  0% 0.00/567k [00:00<?, ?B/s]\r100% 567k/567k [00:00<00:00, 117MB/s]\n"
          ]
        }
      ]
    },
    {
      "cell_type": "code",
      "source": [
        "data = pd.read_csv(\"4K_House_Rent_Dataset.csv\")\n",
        "data"
      ],
      "metadata": {
        "colab": {
          "base_uri": "https://localhost:8080/",
          "height": 424
        },
        "id": "0KccpD0B-iI2",
        "outputId": "ce44a909-5fb4-479e-8a3f-095a39b638aa"
      },
      "execution_count": null,
      "outputs": [
        {
          "output_type": "execute_result",
          "data": {
            "text/plain": [
              "       Posted On  BHK   Rent  Size            Floor    Area Type  \\\n",
              "0     2022-05-18    2  10000  1100  Ground out of 2   Super Area   \n",
              "1     2022-05-13    2  20000   800       1 out of 3   Super Area   \n",
              "2     2022-05-16    2  17000  1000       1 out of 3   Super Area   \n",
              "3     2022-07-04    2  10000   800       1 out of 2   Super Area   \n",
              "4     2022-05-09    2   7500   850       1 out of 2  Carpet Area   \n",
              "...          ...  ...    ...   ...              ...          ...   \n",
              "4741  2022-05-18    2  15000  1000       3 out of 5  Carpet Area   \n",
              "4742  2022-05-15    3  29000  2000       1 out of 4   Super Area   \n",
              "4743  2022-07-10    3  35000  1750       3 out of 5  Carpet Area   \n",
              "4744  2022-07-06    3  45000  1500     23 out of 34  Carpet Area   \n",
              "4745  2022-05-04    2  15000  1000       4 out of 5  Carpet Area   \n",
              "\n",
              "                 Area Locality       City Furnishing Status  Tenant Preferred  \\\n",
              "0                       Bandel    Kolkata       Unfurnished  Bachelors/Family   \n",
              "1     Phool Bagan, Kankurgachi    Kolkata    Semi-Furnished  Bachelors/Family   \n",
              "2      Salt Lake City Sector 2    Kolkata    Semi-Furnished  Bachelors/Family   \n",
              "3                  Dumdum Park    Kolkata       Unfurnished  Bachelors/Family   \n",
              "4                South Dum Dum    Kolkata       Unfurnished         Bachelors   \n",
              "...                        ...        ...               ...               ...   \n",
              "4741              Bandam Kommu  Hyderabad    Semi-Furnished  Bachelors/Family   \n",
              "4742      Manikonda, Hyderabad  Hyderabad    Semi-Furnished  Bachelors/Family   \n",
              "4743      Himayath Nagar, NH 7  Hyderabad    Semi-Furnished  Bachelors/Family   \n",
              "4744                Gachibowli  Hyderabad    Semi-Furnished            Family   \n",
              "4745           Suchitra Circle  Hyderabad       Unfurnished         Bachelors   \n",
              "\n",
              "      Bathroom Point of Contact  \n",
              "0            2    Contact Owner  \n",
              "1            1    Contact Owner  \n",
              "2            1    Contact Owner  \n",
              "3            1    Contact Owner  \n",
              "4            1    Contact Owner  \n",
              "...        ...              ...  \n",
              "4741         2    Contact Owner  \n",
              "4742         3    Contact Owner  \n",
              "4743         3    Contact Agent  \n",
              "4744         2    Contact Agent  \n",
              "4745         2    Contact Owner  \n",
              "\n",
              "[4746 rows x 12 columns]"
            ],
            "text/html": [
              "\n",
              "  <div id=\"df-6dba1787-42bf-4004-84e6-3ff20c0acab8\">\n",
              "    <div class=\"colab-df-container\">\n",
              "      <div>\n",
              "<style scoped>\n",
              "    .dataframe tbody tr th:only-of-type {\n",
              "        vertical-align: middle;\n",
              "    }\n",
              "\n",
              "    .dataframe tbody tr th {\n",
              "        vertical-align: top;\n",
              "    }\n",
              "\n",
              "    .dataframe thead th {\n",
              "        text-align: right;\n",
              "    }\n",
              "</style>\n",
              "<table border=\"1\" class=\"dataframe\">\n",
              "  <thead>\n",
              "    <tr style=\"text-align: right;\">\n",
              "      <th></th>\n",
              "      <th>Posted On</th>\n",
              "      <th>BHK</th>\n",
              "      <th>Rent</th>\n",
              "      <th>Size</th>\n",
              "      <th>Floor</th>\n",
              "      <th>Area Type</th>\n",
              "      <th>Area Locality</th>\n",
              "      <th>City</th>\n",
              "      <th>Furnishing Status</th>\n",
              "      <th>Tenant Preferred</th>\n",
              "      <th>Bathroom</th>\n",
              "      <th>Point of Contact</th>\n",
              "    </tr>\n",
              "  </thead>\n",
              "  <tbody>\n",
              "    <tr>\n",
              "      <th>0</th>\n",
              "      <td>2022-05-18</td>\n",
              "      <td>2</td>\n",
              "      <td>10000</td>\n",
              "      <td>1100</td>\n",
              "      <td>Ground out of 2</td>\n",
              "      <td>Super Area</td>\n",
              "      <td>Bandel</td>\n",
              "      <td>Kolkata</td>\n",
              "      <td>Unfurnished</td>\n",
              "      <td>Bachelors/Family</td>\n",
              "      <td>2</td>\n",
              "      <td>Contact Owner</td>\n",
              "    </tr>\n",
              "    <tr>\n",
              "      <th>1</th>\n",
              "      <td>2022-05-13</td>\n",
              "      <td>2</td>\n",
              "      <td>20000</td>\n",
              "      <td>800</td>\n",
              "      <td>1 out of 3</td>\n",
              "      <td>Super Area</td>\n",
              "      <td>Phool Bagan, Kankurgachi</td>\n",
              "      <td>Kolkata</td>\n",
              "      <td>Semi-Furnished</td>\n",
              "      <td>Bachelors/Family</td>\n",
              "      <td>1</td>\n",
              "      <td>Contact Owner</td>\n",
              "    </tr>\n",
              "    <tr>\n",
              "      <th>2</th>\n",
              "      <td>2022-05-16</td>\n",
              "      <td>2</td>\n",
              "      <td>17000</td>\n",
              "      <td>1000</td>\n",
              "      <td>1 out of 3</td>\n",
              "      <td>Super Area</td>\n",
              "      <td>Salt Lake City Sector 2</td>\n",
              "      <td>Kolkata</td>\n",
              "      <td>Semi-Furnished</td>\n",
              "      <td>Bachelors/Family</td>\n",
              "      <td>1</td>\n",
              "      <td>Contact Owner</td>\n",
              "    </tr>\n",
              "    <tr>\n",
              "      <th>3</th>\n",
              "      <td>2022-07-04</td>\n",
              "      <td>2</td>\n",
              "      <td>10000</td>\n",
              "      <td>800</td>\n",
              "      <td>1 out of 2</td>\n",
              "      <td>Super Area</td>\n",
              "      <td>Dumdum Park</td>\n",
              "      <td>Kolkata</td>\n",
              "      <td>Unfurnished</td>\n",
              "      <td>Bachelors/Family</td>\n",
              "      <td>1</td>\n",
              "      <td>Contact Owner</td>\n",
              "    </tr>\n",
              "    <tr>\n",
              "      <th>4</th>\n",
              "      <td>2022-05-09</td>\n",
              "      <td>2</td>\n",
              "      <td>7500</td>\n",
              "      <td>850</td>\n",
              "      <td>1 out of 2</td>\n",
              "      <td>Carpet Area</td>\n",
              "      <td>South Dum Dum</td>\n",
              "      <td>Kolkata</td>\n",
              "      <td>Unfurnished</td>\n",
              "      <td>Bachelors</td>\n",
              "      <td>1</td>\n",
              "      <td>Contact Owner</td>\n",
              "    </tr>\n",
              "    <tr>\n",
              "      <th>...</th>\n",
              "      <td>...</td>\n",
              "      <td>...</td>\n",
              "      <td>...</td>\n",
              "      <td>...</td>\n",
              "      <td>...</td>\n",
              "      <td>...</td>\n",
              "      <td>...</td>\n",
              "      <td>...</td>\n",
              "      <td>...</td>\n",
              "      <td>...</td>\n",
              "      <td>...</td>\n",
              "      <td>...</td>\n",
              "    </tr>\n",
              "    <tr>\n",
              "      <th>4741</th>\n",
              "      <td>2022-05-18</td>\n",
              "      <td>2</td>\n",
              "      <td>15000</td>\n",
              "      <td>1000</td>\n",
              "      <td>3 out of 5</td>\n",
              "      <td>Carpet Area</td>\n",
              "      <td>Bandam Kommu</td>\n",
              "      <td>Hyderabad</td>\n",
              "      <td>Semi-Furnished</td>\n",
              "      <td>Bachelors/Family</td>\n",
              "      <td>2</td>\n",
              "      <td>Contact Owner</td>\n",
              "    </tr>\n",
              "    <tr>\n",
              "      <th>4742</th>\n",
              "      <td>2022-05-15</td>\n",
              "      <td>3</td>\n",
              "      <td>29000</td>\n",
              "      <td>2000</td>\n",
              "      <td>1 out of 4</td>\n",
              "      <td>Super Area</td>\n",
              "      <td>Manikonda, Hyderabad</td>\n",
              "      <td>Hyderabad</td>\n",
              "      <td>Semi-Furnished</td>\n",
              "      <td>Bachelors/Family</td>\n",
              "      <td>3</td>\n",
              "      <td>Contact Owner</td>\n",
              "    </tr>\n",
              "    <tr>\n",
              "      <th>4743</th>\n",
              "      <td>2022-07-10</td>\n",
              "      <td>3</td>\n",
              "      <td>35000</td>\n",
              "      <td>1750</td>\n",
              "      <td>3 out of 5</td>\n",
              "      <td>Carpet Area</td>\n",
              "      <td>Himayath Nagar, NH 7</td>\n",
              "      <td>Hyderabad</td>\n",
              "      <td>Semi-Furnished</td>\n",
              "      <td>Bachelors/Family</td>\n",
              "      <td>3</td>\n",
              "      <td>Contact Agent</td>\n",
              "    </tr>\n",
              "    <tr>\n",
              "      <th>4744</th>\n",
              "      <td>2022-07-06</td>\n",
              "      <td>3</td>\n",
              "      <td>45000</td>\n",
              "      <td>1500</td>\n",
              "      <td>23 out of 34</td>\n",
              "      <td>Carpet Area</td>\n",
              "      <td>Gachibowli</td>\n",
              "      <td>Hyderabad</td>\n",
              "      <td>Semi-Furnished</td>\n",
              "      <td>Family</td>\n",
              "      <td>2</td>\n",
              "      <td>Contact Agent</td>\n",
              "    </tr>\n",
              "    <tr>\n",
              "      <th>4745</th>\n",
              "      <td>2022-05-04</td>\n",
              "      <td>2</td>\n",
              "      <td>15000</td>\n",
              "      <td>1000</td>\n",
              "      <td>4 out of 5</td>\n",
              "      <td>Carpet Area</td>\n",
              "      <td>Suchitra Circle</td>\n",
              "      <td>Hyderabad</td>\n",
              "      <td>Unfurnished</td>\n",
              "      <td>Bachelors</td>\n",
              "      <td>2</td>\n",
              "      <td>Contact Owner</td>\n",
              "    </tr>\n",
              "  </tbody>\n",
              "</table>\n",
              "<p>4746 rows × 12 columns</p>\n",
              "</div>\n",
              "      <button class=\"colab-df-convert\" onclick=\"convertToInteractive('df-6dba1787-42bf-4004-84e6-3ff20c0acab8')\"\n",
              "              title=\"Convert this dataframe to an interactive table.\"\n",
              "              style=\"display:none;\">\n",
              "        \n",
              "  <svg xmlns=\"http://www.w3.org/2000/svg\" height=\"24px\"viewBox=\"0 0 24 24\"\n",
              "       width=\"24px\">\n",
              "    <path d=\"M0 0h24v24H0V0z\" fill=\"none\"/>\n",
              "    <path d=\"M18.56 5.44l.94 2.06.94-2.06 2.06-.94-2.06-.94-.94-2.06-.94 2.06-2.06.94zm-11 1L8.5 8.5l.94-2.06 2.06-.94-2.06-.94L8.5 2.5l-.94 2.06-2.06.94zm10 10l.94 2.06.94-2.06 2.06-.94-2.06-.94-.94-2.06-.94 2.06-2.06.94z\"/><path d=\"M17.41 7.96l-1.37-1.37c-.4-.4-.92-.59-1.43-.59-.52 0-1.04.2-1.43.59L10.3 9.45l-7.72 7.72c-.78.78-.78 2.05 0 2.83L4 21.41c.39.39.9.59 1.41.59.51 0 1.02-.2 1.41-.59l7.78-7.78 2.81-2.81c.8-.78.8-2.07 0-2.86zM5.41 20L4 18.59l7.72-7.72 1.47 1.35L5.41 20z\"/>\n",
              "  </svg>\n",
              "      </button>\n",
              "      \n",
              "  <style>\n",
              "    .colab-df-container {\n",
              "      display:flex;\n",
              "      flex-wrap:wrap;\n",
              "      gap: 12px;\n",
              "    }\n",
              "\n",
              "    .colab-df-convert {\n",
              "      background-color: #E8F0FE;\n",
              "      border: none;\n",
              "      border-radius: 50%;\n",
              "      cursor: pointer;\n",
              "      display: none;\n",
              "      fill: #1967D2;\n",
              "      height: 32px;\n",
              "      padding: 0 0 0 0;\n",
              "      width: 32px;\n",
              "    }\n",
              "\n",
              "    .colab-df-convert:hover {\n",
              "      background-color: #E2EBFA;\n",
              "      box-shadow: 0px 1px 2px rgba(60, 64, 67, 0.3), 0px 1px 3px 1px rgba(60, 64, 67, 0.15);\n",
              "      fill: #174EA6;\n",
              "    }\n",
              "\n",
              "    [theme=dark] .colab-df-convert {\n",
              "      background-color: #3B4455;\n",
              "      fill: #D2E3FC;\n",
              "    }\n",
              "\n",
              "    [theme=dark] .colab-df-convert:hover {\n",
              "      background-color: #434B5C;\n",
              "      box-shadow: 0px 1px 3px 1px rgba(0, 0, 0, 0.15);\n",
              "      filter: drop-shadow(0px 1px 2px rgba(0, 0, 0, 0.3));\n",
              "      fill: #FFFFFF;\n",
              "    }\n",
              "  </style>\n",
              "\n",
              "      <script>\n",
              "        const buttonEl =\n",
              "          document.querySelector('#df-6dba1787-42bf-4004-84e6-3ff20c0acab8 button.colab-df-convert');\n",
              "        buttonEl.style.display =\n",
              "          google.colab.kernel.accessAllowed ? 'block' : 'none';\n",
              "\n",
              "        async function convertToInteractive(key) {\n",
              "          const element = document.querySelector('#df-6dba1787-42bf-4004-84e6-3ff20c0acab8');\n",
              "          const dataTable =\n",
              "            await google.colab.kernel.invokeFunction('convertToInteractive',\n",
              "                                                     [key], {});\n",
              "          if (!dataTable) return;\n",
              "\n",
              "          const docLinkHtml = 'Like what you see? Visit the ' +\n",
              "            '<a target=\"_blank\" href=https://colab.research.google.com/notebooks/data_table.ipynb>data table notebook</a>'\n",
              "            + ' to learn more about interactive tables.';\n",
              "          element.innerHTML = '';\n",
              "          dataTable['output_type'] = 'display_data';\n",
              "          await google.colab.output.renderOutput(dataTable, element);\n",
              "          const docLink = document.createElement('div');\n",
              "          docLink.innerHTML = docLinkHtml;\n",
              "          element.appendChild(docLink);\n",
              "        }\n",
              "      </script>\n",
              "    </div>\n",
              "  </div>\n",
              "  "
            ]
          },
          "metadata": {},
          "execution_count": 68
        }
      ]
    },
    {
      "cell_type": "code",
      "source": [
        "y = data['Rent'].values\n",
        "x1 = data['Size'].values\n",
        "x2 = data['BHK'].values\n",
        "x3 = data['Area Type'].values\n",
        "x4 = data['Bathroom'].values\n",
        "x5 = data['Furnishing Status'].values"
      ],
      "metadata": {
        "id": "UZBBwWGn-lLG"
      },
      "execution_count": null,
      "outputs": []
    },
    {
      "cell_type": "code",
      "source": [
        "def replace_feature_by_value(feature_list, feature, value):\n",
        "  return [value if item == feature else item for item in feature_list]"
      ],
      "metadata": {
        "id": "NwfxmYWG-mN2"
      },
      "execution_count": null,
      "outputs": []
    },
    {
      "cell_type": "code",
      "source": [
        "x3 = replace_feature_by_value(x3,'Super Area', 1)\n",
        "x3 = replace_feature_by_value(x3,'Built Area', 2)\n",
        "x3 = replace_feature_by_value(x3,'Carpet Area', 3)\n",
        "\n",
        "x5 = replace_feature_by_value(x5,'Unfurnished', 1)\n",
        "x5 = replace_feature_by_value(x5,'Semi-Furnished', 2)\n",
        "x5 = replace_feature_by_value(x5,'Furnished', 3)"
      ],
      "metadata": {
        "id": "jmRloPLV-nY2"
      },
      "execution_count": null,
      "outputs": []
    },
    {
      "cell_type": "code",
      "source": [
        "Y = np.asmatrix(y)\n",
        "print(Y)"
      ],
      "metadata": {
        "colab": {
          "base_uri": "https://localhost:8080/"
        },
        "id": "xKmtkKdi-0UW",
        "outputId": "296af3d6-8688-4458-f462-1c118f9b153e"
      },
      "execution_count": null,
      "outputs": [
        {
          "output_type": "stream",
          "name": "stdout",
          "text": [
            "[[10000 20000 17000 ... 35000 45000 15000]]\n"
          ]
        }
      ]
    },
    {
      "cell_type": "code",
      "source": [
        "Y = np.transpose(Y)\n",
        "print(Y)"
      ],
      "metadata": {
        "colab": {
          "base_uri": "https://localhost:8080/"
        },
        "id": "Hm_oJ8jRAe4_",
        "outputId": "70ca628e-e19e-4b3d-a7fb-a2013dd80bcc"
      },
      "execution_count": null,
      "outputs": [
        {
          "output_type": "stream",
          "name": "stdout",
          "text": [
            "[[10000]\n",
            " [20000]\n",
            " [17000]\n",
            " ...\n",
            " [35000]\n",
            " [45000]\n",
            " [15000]]\n"
          ]
        }
      ]
    },
    {
      "cell_type": "code",
      "source": [
        "x = []\n",
        "m = len(x1)\n",
        "for i in range(m):\n",
        "    temp_lst = []\n",
        "    temp_lst.append(1)\n",
        "    temp_lst.append(x1[i])\n",
        "    temp_lst.append(x2[i])\n",
        "    temp_lst.append(x3[i])\n",
        "    temp_lst.append(x4[i])\n",
        "    temp_lst.append(x5[i])\n",
        "    x.append(temp_lst)"
      ],
      "metadata": {
        "id": "dMB9R7tK-3wW"
      },
      "execution_count": null,
      "outputs": []
    },
    {
      "cell_type": "code",
      "source": [
        "x = np.asmatrix(x)\n",
        "print(x)"
      ],
      "metadata": {
        "colab": {
          "base_uri": "https://localhost:8080/"
        },
        "id": "7ePwPdWVBEHO",
        "outputId": "49055e7c-6f5b-433c-d8a9-044167205a5b"
      },
      "execution_count": null,
      "outputs": [
        {
          "output_type": "stream",
          "name": "stdout",
          "text": [
            "[[   1 1100    2    1    2    1]\n",
            " [   1  800    2    1    1    2]\n",
            " [   1 1000    2    1    1    2]\n",
            " ...\n",
            " [   1 1750    3    3    3    2]\n",
            " [   1 1500    3    3    2    2]\n",
            " [   1 1000    2    3    2    1]]\n"
          ]
        }
      ]
    },
    {
      "cell_type": "code",
      "source": [
        "XT = np.transpose(x)\n",
        "\n",
        "XTX = np.matmul(XT,x)\n",
        "XTY = np.matmul(XT,Y)\n",
        "\n",
        "INV_XTX = np.linalg.inv(XTX)\n",
        "\n",
        "thetas = np.matmul(INV_XTX, XTY)\n",
        "\n",
        "thetas = np.squeeze(np.asarray(thetas))\n",
        "theta_0 = thetas[0]\n",
        "theta_1 = thetas[1]\n",
        "theta_2 = thetas[2]\n",
        "theta_3 = thetas[3]\n",
        "theta_4 = thetas[4]\n",
        "theta_5 = thetas[5]\n",
        "\n",
        "sum = 0\n",
        "for j in range(m):\n",
        "    temp_sum = theta_0 + theta_1*x1[i] + theta_2*x2[i] + theta_3*x3[i] + theta_4*x4[i] + theta_5*x5[i]\n",
        "    temp_sum = temp_sum ** 2\n",
        "    sum += temp_sum\n",
        "    \n",
        "cost = sum/(2*m)\n",
        "print(cost)"
      ],
      "metadata": {
        "colab": {
          "base_uri": "https://localhost:8080/"
        },
        "id": "g29_F53F-6C-",
        "outputId": "b2cc9f08-b117-4e38-c8e9-6384b2deb80d"
      },
      "execution_count": null,
      "outputs": [
        {
          "output_type": "stream",
          "name": "stdout",
          "text": [
            "971087341.2226565\n"
          ]
        }
      ]
    },
    {
      "cell_type": "code",
      "source": [
        "def plot(X, Y, label_x, label_y, theta, theta0):\n",
        "\n",
        "    line_x = np.linspace(np.min(X), np.max(X), 1000)\n",
        "    reg_line = theta * line_x + theta0\n",
        "\n",
        "    f = plt.figure()\n",
        "    f.set_figwidth(15)\n",
        "    f.set_figheight(10)\n",
        "\n",
        "    plt.plot(line_x, reg_line, c ='#58b970', label='Regression Line')\n",
        "    plt.scatter(X, Y, c = \"#ef5423\", label = 'Scatter plot')\n",
        "\n",
        "    plt.xlabel(label_x)\n",
        "    plt.ylabel(label_y)\n",
        "    plt.legend()\n",
        "    plt.show()"
      ],
      "metadata": {
        "id": "bS_9i8pJEIPm"
      },
      "execution_count": null,
      "outputs": []
    },
    {
      "cell_type": "code",
      "source": [
        "plot(x1, y, \"Size\", \"Rent\", theta_1, theta_0)"
      ],
      "metadata": {
        "colab": {
          "base_uri": "https://localhost:8080/",
          "height": 616
        },
        "id": "rHY07o3bEsNu",
        "outputId": "7b1a728b-0e2f-4adb-9121-2d3e161dabe3"
      },
      "execution_count": null,
      "outputs": [
        {
          "output_type": "display_data",
          "data": {
            "text/plain": [
              "<Figure size 1080x720 with 1 Axes>"
            ],
            "image/png": "[encoded data removed]"
          },
          "metadata": {
            "needs_background": "light"
          }
        }
      ]
    },
    {
      "cell_type": "code",
      "source": [
        "plot(x2, y, \"BHK\", \"Rent\", theta_2, theta_0)"
      ],
      "metadata": {
        "colab": {
          "base_uri": "https://localhost:8080/",
          "height": 616
        },
        "id": "JVL30z7EEZFf",
        "outputId": "c0724fac-2811-4704-c587-838948868f27"
      },
      "execution_count": null,
      "outputs": [
        {
          "output_type": "display_data",
          "data": {
            "text/plain": [
              "<Figure size 1080x720 with 1 Axes>"
            ],
            "image/png": "[encoded data removed]"
          },
          "metadata": {
            "needs_background": "light"
          }
        }
      ]
    },
    {
      "cell_type": "code",
      "source": [
        "plot(x3, y, \"Area Type\", \"Rent\", theta_3, theta_0)"
      ],
      "metadata": {
        "colab": {
          "base_uri": "https://localhost:8080/",
          "height": 616
        },
        "id": "CZCgWde0EZh-",
        "outputId": "656089af-569c-434b-e364-a799626f6a1b"
      },
      "execution_count": null,
      "outputs": [
        {
          "output_type": "display_data",
          "data": {
            "text/plain": [
              "<Figure size 1080x720 with 1 Axes>"
            ],
            "image/png": "[encoded data removed]"
          },
          "metadata": {
            "needs_background": "light"
          }
        }
      ]
    },
    {
      "cell_type": "code",
      "source": [
        "plot(x4, y, \"Bathroom\", \"Rent\", theta_4, theta_0)"
      ],
      "metadata": {
        "colab": {
          "base_uri": "https://localhost:8080/",
          "height": 616
        },
        "id": "U3pk5Z5PEbGf",
        "outputId": "0e9f0e6c-a9ec-4049-a8a4-a8821f84c24c"
      },
      "execution_count": null,
      "outputs": [
        {
          "output_type": "display_data",
          "data": {
            "text/plain": [
              "<Figure size 1080x720 with 1 Axes>"
            ],
            "image/png": "[encoded data removed]"
          },
          "metadata": {
            "needs_background": "light"
          }
        }
      ]
    },
    {
      "cell_type": "code",
      "source": [
        "plot(x5, y, \"Furnishing Status\", \"Rent\", theta_5, theta_0)"
      ],
      "metadata": {
        "colab": {
          "base_uri": "https://localhost:8080/",
          "height": 616
        },
        "id": "pxyFOmxSEcf2",
        "outputId": "6a8a2fed-4803-4e2b-d5c9-3134de54e3a6"
      },
      "execution_count": null,
      "outputs": [
        {
          "output_type": "display_data",
          "data": {
            "text/plain": [
              "<Figure size 1080x720 with 1 Axes>"
            ],
            "image/png": "[encoded data removed]"
          },
          "metadata": {
            "needs_background": "light"
          }
        }
      ]
    }
  ]
}